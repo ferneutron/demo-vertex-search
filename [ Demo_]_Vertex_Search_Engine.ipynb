{
  "cells": [
    {
      "cell_type": "markdown",
      "metadata": {
        "id": "qvYSz5hyT43F"
      },
      "source": [
        "# 1. Settings"
      ]
    },
    {
      "cell_type": "code",
      "execution_count": 1,
      "metadata": {
        "cellView": "form",
        "id": "Ls7KUBahF3zc"
      },
      "outputs": [],
      "source": [
        "#@title 1. Install requirements\n",
        "%%capture\n",
        "! pip install --upgrade google-cloud-discoveryengine\n",
        "\n",
        "\n",
        "import IPython\n",
        "app = IPython.Application.instance()\n",
        "app.kernel.do_shutdown(True)"
      ]
    },
    {
      "cell_type": "code",
      "execution_count": 1,
      "metadata": {
        "cellView": "form",
        "id": "h1zzFNlKf-Rs"
      },
      "outputs": [],
      "source": [
        "#@title 2. Authentication\n",
        "\n",
        "from google.cloud import storage\n",
        "from google.colab import auth as google_auth\n",
        "from google.cloud import discoveryengine_v1beta as ds\n",
        "from google.api_core.client_options import ClientOptions\n",
        "\n",
        "PROJECT_ID = \"\"\n",
        "LOCATION = \"\"\n",
        "\n",
        "google_auth.authenticate_user(project_id=PROJECT_ID)"
      ]
    },
    {
      "cell_type": "code",
      "execution_count": null,
      "metadata": {
        "cellView": "form",
        "id": "MnygTdFqHUdm"
      },
      "outputs": [],
      "source": [
        "#@title 3. Utility functions\n",
        "\n",
        "def create_data_store(\n",
        "    project_id: str,\n",
        "    location: str,\n",
        "    data_store_name: str,\n",
        "    data_store_id: str\n",
        "    ):\n",
        "\n",
        "    client_options = (\n",
        "        ClientOptions(api_endpoint=f\"{LOCATION}-discoveryengine.googleapis.com\")\n",
        "        if LOCATION != \"global\"\n",
        "        else None\n",
        "    )\n",
        "\n",
        "    client = ds.DataStoreServiceClient(client_options=client_options)\n",
        "\n",
        "    data_store = ds.DataStore(\n",
        "        display_name=data_store_name,\n",
        "        industry_vertical=\"GENERIC\",\n",
        "        content_config=\"CONTENT_REQUIRED\",\n",
        "    )\n",
        "\n",
        "    request = ds.CreateDataStoreRequest(\n",
        "        parent=ds.DataStoreServiceClient.collection_path(\n",
        "            project_id, location, \"default_collection\"\n",
        "        ),\n",
        "        data_store=data_store,\n",
        "        data_store_id=data_store_id,\n",
        "    )\n",
        "    operation = client.create_data_store(request=request)\n",
        "\n",
        "    try:\n",
        "        response = operation.result(timeout=90)\n",
        "    except:\n",
        "        print(\"[ PROCESS ]long-running operation\")\n",
        "    else:\n",
        "      print(f\"[ SUCESS ] Datastore {data_store_name} created.\")\n",
        "\n",
        "\n",
        "def import_documents(\n",
        "    project_id: str,\n",
        "    location: str,\n",
        "    data_store_id: str,\n",
        "    gcs_uri: str,\n",
        "):\n",
        "\n",
        "    client_options = (\n",
        "        ClientOptions(api_endpoint=f\"{location}-discoveryengine.googleapis.com\")\n",
        "        if location != \"global\"\n",
        "        else None\n",
        "    )\n",
        "\n",
        "    client = ds.DocumentServiceClient(client_options=client_options)\n",
        "\n",
        "    parent = client.branch_path(\n",
        "        project=project_id,\n",
        "        location=location,\n",
        "        data_store=data_store_id,\n",
        "        branch=\"default_branch\",\n",
        "    )\n",
        "\n",
        "    source_documents = [f\"{gcs_uri}/*\"]\n",
        "\n",
        "    request = ds.ImportDocumentsRequest(\n",
        "        parent=parent,\n",
        "        gcs_source=ds.GcsSource(\n",
        "            input_uris=source_documents, data_schema=\"content\"\n",
        "        ),\n",
        "        # Options: `FULL`, `INCREMENTAL`\n",
        "        reconciliation_mode=ds.ImportDocumentsRequest.ReconciliationMode.INCREMENTAL,\n",
        "    )\n",
        "\n",
        "    try:\n",
        "      operation = client.import_documents(request=request)\n",
        "      response = operation.result()\n",
        "    except:\n",
        "        print(\"[ FAILED ] Operation failed\")\n",
        "    else:\n",
        "      print(f\"[ SUCESS ] Documents imported.\")\n",
        "\n",
        "\n",
        "def create_engine(\n",
        "    project_id: str,\n",
        "    location: str,\n",
        "    data_store_name: str,\n",
        "    data_store_id: str\n",
        "    ):\n",
        "\n",
        "    client_options = (\n",
        "        ClientOptions(api_endpoint=f\"{location}-discoveryengine.googleapis.com\")\n",
        "        if location != \"global\"\n",
        "        else None\n",
        "    )\n",
        "    client = ds.EngineServiceClient(client_options=client_options)\n",
        "\n",
        "    config = ds.Engine.SearchEngineConfig(\n",
        "        search_tier=\"SEARCH_TIER_ENTERPRISE\", search_add_ons=[\"SEARCH_ADD_ON_LLM\"]\n",
        "    )\n",
        "\n",
        "    engine = ds.Engine(\n",
        "        display_name=data_store_name,\n",
        "        solution_type=\"SOLUTION_TYPE_SEARCH\",\n",
        "        industry_vertical=\"GENERIC\",\n",
        "        data_store_ids=[data_store_id],\n",
        "        search_engine_config=config,\n",
        "    )\n",
        "\n",
        "    request = ds.CreateEngineRequest(\n",
        "        parent=ds.DataStoreServiceClient.collection_path(\n",
        "            project_id, location, \"default_collection\"\n",
        "        ),\n",
        "        engine=engine,\n",
        "        engine_id=engine.display_name,\n",
        "    )\n",
        "\n",
        "    try:\n",
        "        operation = client.create_engine(request=request)\n",
        "        response = operation.result(timeout=90)\n",
        "    except:\n",
        "        print(\"[ PROCESS ]long-running operation\")\n",
        "    else:\n",
        "      print(f\"[ SUCESS ] Vertex Search App created.\")"
      ]
    },
    {
      "cell_type": "markdown",
      "metadata": {
        "id": "q4dRqc3Bl2WQ"
      },
      "source": [
        "# 2. Create Vertex Search Apps"
      ]
    },
    {
      "cell_type": "code",
      "execution_count": null,
      "metadata": {
        "cellView": "form",
        "colab": {
          "base_uri": "https://localhost:8080/"
        },
        "id": "o_Yl0umHlFwY",
        "outputId": "ca36c2dc-84c0-4a95-8d9e-d319f2b58485"
      },
      "outputs": [
        {
          "name": "stdout",
          "output_type": "stream",
          "text": [
            "[ SUCESS ] Datastore mexican-datastore created.\n",
            "[ SUCESS ] Documents imported.\n",
            "[ SUCESS ] Vertex Search App created.\n"
          ]
        }
      ],
      "source": [
        "#@title 1. Vertex Search App: Mexican\n",
        "\n",
        "DATA_STORE_NAME = \"mexican-datastore\"\n",
        "DATA_STORE_ID = f\"{DATA_STORE_NAME}-id\"\n",
        "GCS_URI = \"gs://food-datastore/mexican\"\n",
        "\n",
        "# Create Data Store\n",
        "create_data_store(\n",
        "    project_id=PROJECT_ID,\n",
        "    location=LOCATION,\n",
        "    data_store_name=DATA_STORE_NAME,\n",
        "    data_store_id=DATA_STORE_ID\n",
        "    )\n",
        "\n",
        "# Import Documents\n",
        "import_documents(\n",
        "    project_id=PROJECT_ID,\n",
        "    location=LOCATION,\n",
        "    data_store_id=DATA_STORE_ID,\n",
        "    gcs_uri= (GCS_URI)\n",
        "    )\n",
        "\n",
        "# Create Vertex Search Engine App\n",
        "create_engine(\n",
        "    project_id=PROJECT_ID,\n",
        "    location=LOCATION,\n",
        "    data_store_name=DATA_STORE_NAME,\n",
        "    data_store_id=DATA_STORE_ID)"
      ]
    },
    {
      "cell_type": "code",
      "execution_count": null,
      "metadata": {
        "cellView": "form",
        "colab": {
          "base_uri": "https://localhost:8080/"
        },
        "id": "g24zl1yI7-rp",
        "outputId": "aac94fe9-dfaf-45dd-a21f-b3f08c6b5999"
      },
      "outputs": [
        {
          "name": "stdout",
          "output_type": "stream",
          "text": [
            "[ SUCESS ] Datastore peru-datastore created.\n",
            "[ SUCESS ] Documents imported.\n",
            "[ SUCESS ] Vertex Search App created.\n"
          ]
        }
      ],
      "source": [
        "#@title 2. Vertex Search App: Peruvian\n",
        "\n",
        "DATA_STORE_NAME = \"peru-datastore\"\n",
        "DATA_STORE_ID = f\"{DATA_STORE_NAME}-id\"\n",
        "GCS_URI = \"gs://food-datastore/peruvian\"\n",
        "\n",
        "# Create Data Store\n",
        "create_data_store(\n",
        "    project_id=PROJECT_ID,\n",
        "    location=LOCATION,\n",
        "    data_store_name=DATA_STORE_NAME,\n",
        "    data_store_id=DATA_STORE_ID\n",
        "    )\n",
        "\n",
        "\n",
        "# Import Documents\n",
        "import_documents(\n",
        "    project_id=PROJECT_ID,\n",
        "    location=LOCATION,\n",
        "    data_store_id=DATA_STORE_ID,\n",
        "    gcs_uri= (GCS_URI)\n",
        "    )\n",
        "\n",
        "# Create Vertex Search Engine App\n",
        "create_engine(\n",
        "    project_id=PROJECT_ID,\n",
        "    location=LOCATION,\n",
        "    data_store_name=DATA_STORE_NAME,\n",
        "    data_store_id=DATA_STORE_ID)"
      ]
    },
    {
      "cell_type": "code",
      "execution_count": null,
      "metadata": {
        "cellView": "form",
        "colab": {
          "base_uri": "https://localhost:8080/"
        },
        "id": "appEMOHR8KZU",
        "outputId": "046c7c0e-81a2-4de5-ff40-852adb90c7cb"
      },
      "outputs": [
        {
          "name": "stdout",
          "output_type": "stream",
          "text": [
            "[ SUCESS ] Datastore argentine-datastore created.\n",
            "[ SUCESS ] Documents imported.\n",
            "[ SUCESS ] Vertex Search App created.\n"
          ]
        }
      ],
      "source": [
        "#@title 3. Vertex Search App: Argentine\n",
        "\n",
        "DATA_STORE_NAME = \"argentine-datastore\"\n",
        "DATA_STORE_ID = f\"{DATA_STORE_NAME}-id\"\n",
        "GCS_URI = \"gs://food-datastore/argentine\"\n",
        "\n",
        "# Create Data Store\n",
        "create_data_store(\n",
        "    project_id=PROJECT_ID,\n",
        "    location=LOCATION,\n",
        "    data_store_name=DATA_STORE_NAME,\n",
        "    data_store_id=DATA_STORE_ID\n",
        "    )\n",
        "\n",
        "\n",
        "# Import Documents\n",
        "import_documents(\n",
        "    project_id=PROJECT_ID,\n",
        "    location=LOCATION,\n",
        "    data_store_id=DATA_STORE_ID,\n",
        "    gcs_uri= (GCS_URI)\n",
        "    )\n",
        "\n",
        "# Create Vertex Search Engine App\n",
        "create_engine(\n",
        "    project_id=PROJECT_ID,\n",
        "    location=LOCATION,\n",
        "    data_store_name=DATA_STORE_NAME,\n",
        "    data_store_id=DATA_STORE_ID)"
      ]
    },
    {
      "cell_type": "markdown",
      "metadata": {
        "id": "z_4j6JW4NRBF"
      },
      "source": [
        "# 3. Querying Search Apps"
      ]
    },
    {
      "cell_type": "code",
      "execution_count": 2,
      "metadata": {
        "cellView": "form",
        "id": "TSsCTnMfGePu"
      },
      "outputs": [],
      "source": [
        "#@title 1. Init Discovery Engine client\n",
        "\n",
        "client = ds.SearchServiceClient()"
      ]
    },
    {
      "cell_type": "code",
      "execution_count": 55,
      "metadata": {
        "id": "Sx-IOLdUGk-_"
      },
      "outputs": [],
      "source": [
        "#@title 2. Utils\n",
        "\n",
        "def search(\n",
        "    data_store_id: str,\n",
        "    query: str):\n",
        "\n",
        "  serving_config = client.serving_config_path(\n",
        "      project=PROJECT_ID,\n",
        "      location=LOCATION,\n",
        "      data_store=data_store_id,\n",
        "      serving_config=\"default_config\")\n",
        "\n",
        "\n",
        "  content_search_spec = {\n",
        "      \"extractive_content_spec\": {\n",
        "          \"max_extractive_answer_count\": 3,\n",
        "          \"max_extractive_segment_count\": 3,\n",
        "          \"return_extractive_segment_score\": True,\n",
        "          },\n",
        "      }\n",
        "\n",
        "  request = ds.SearchRequest(\n",
        "      serving_config=serving_config,\n",
        "      query=query,\n",
        "      query_expansion_spec={ \"condition\": \"AUTO\" },\n",
        "      spell_correction_spec={ \"mode\": \"AUTO\" },\n",
        "      content_search_spec=content_search_spec,\n",
        "      page_size=1)\n",
        "\n",
        "  response = client.search(request)\n",
        "\n",
        "  top_response = \"\"\n",
        "\n",
        "  try:\n",
        "    for r in response.results[0].document.derived_struct_data.get(\"extractive_segments\"):\n",
        "      top_response = r.get(\"content\")\n",
        "      break\n",
        "  except:\n",
        "    top_response = \"No answer found\"\n",
        "  finally:\n",
        "    return top_response"
      ]
    },
    {
      "cell_type": "code",
      "execution_count": 68,
      "metadata": {
        "id": "hLQ9nqIBOjf0"
      },
      "outputs": [],
      "source": [
        "#@title 3. Query\n",
        "query = \"\"\n",
        "\n",
        "mexican_answer = search(data_store_id=\"mexican-datastore-id\", query=query)\n",
        "peruvian_answer = search(data_store_id=\"peru-datastore-id\", query=query)\n",
        "argentine_answer = search(data_store_id=\"argentine-datastore-id\", query=query)"
      ]
    },
    {
      "cell_type": "markdown",
      "metadata": {
        "id": "Z_OioEjOQyAH"
      },
      "source": [
        "# 4. Summarize with Gemini"
      ]
    },
    {
      "cell_type": "code",
      "execution_count": 40,
      "metadata": {
        "id": "qTAdTrJnQ0lF"
      },
      "outputs": [],
      "source": [
        "import vertexai\n",
        "from vertexai.generative_models import GenerativeModel\n",
        "from IPython.display import display, Markdown\n",
        "\n",
        "vertexai.init(project=PROJECT_ID, location=\"us-central1\")\n",
        "\n",
        "model = GenerativeModel(\"gemini-1.5-flash-002\")"
      ]
    },
    {
      "cell_type": "code",
      "execution_count": 69,
      "metadata": {
        "colab": {
          "base_uri": "https://localhost:8080/",
          "height": 180
        },
        "id": "RcgdlWElSCJj",
        "outputId": "ec112bd3-e05e-4c83-c184-dac06805dce1"
      },
      "outputs": [
        {
          "data": {
            "text/markdown": [
              "* **México:** La bebida de chocolate azteca, elaborada con cacao tostado, maíz y vainilla, fue transformada por los españoles al añadir azúcar, canela y vainilla, creando el chocolate caliente moderno. El tequila, bebida nacional mexicana, se obtiene del maguey, una planta que los antiguos pobladores ya usaban para bebidas alcohólicas, aunque los españoles refinaron el proceso con la destilación.\n",
              "\n",
              "* **Perú:** La escena culinaria peruana se representa a través de una variedad de bares que ofrecen el pisco sour, cóctel nacional, en diversas presentaciones y combinaciones (con coca, maracuyá, etc.), acompañados de platos ligeros para compartir.  Las opciones incluyen bares tradicionales como El Bolivarcito y locales modernos como Huaringas y Ayahuasca.\n",
              "\n",
              "* **Argentina:** Las empanadas, de origen hispano-portugués, son un pilar de la gastronomía argentina, un alimento práctico y sabroso con rellenos diversos (carne, jamón y queso, frutas), consumido desde hace siglos, popular entre trabajadores y en celebraciones familiares.\n"
            ],
            "text/plain": [
              "<IPython.core.display.Markdown object>"
            ]
          },
          "metadata": {},
          "output_type": "display_data"
        }
      ],
      "source": [
        "prompt = f\"\"\"\n",
        "You are an expert on Latin American food. Your task is to summarize and highlight\n",
        "aspects of the food:\n",
        "\n",
        "Mexican: {mexican_answer}\n",
        "\n",
        "Peruvian: {peruvian_answer}\n",
        "\n",
        "Argentine: {argentine_answer}\n",
        "\n",
        "Make sure that the summary is short and concise for each country. Split the\n",
        "answer in bullets. Please, return the answer in spanish. Do not invent answers\n",
        "if you do not have enough information for eahc country.\n",
        "\"\"\"\n",
        "\n",
        "summary = model.generate_content(contents=[prompt])\n",
        "\n",
        "display(Markdown(summary.text))"
      ]
    },
    {
      "cell_type": "code",
      "execution_count": null,
      "metadata": {
        "id": "MpazuDWgWC6X"
      },
      "outputs": [],
      "source": []
    }
  ],
  "metadata": {
    "colab": {
      "provenance": []
    },
    "kernelspec": {
      "display_name": "Python 3",
      "name": "python3"
    },
    "language_info": {
      "name": "python"
    }
  },
  "nbformat": 4,
  "nbformat_minor": 0
}

{
  "cells": [
    {
      "cell_type": "markdown",
      "metadata": {
        "id": "qvYSz5hyT43F"
      },
      "source": [
        "Documentation: https://python.langchain.com/docs/integrations/retrievers/google_vertex_ai_search/"
      ]
    },
    {
      "cell_type": "code",
      "execution_count": 1,
      "metadata": {
        "cellView": "form",
        "id": "Ls7KUBahF3zc"
      },
      "outputs": [],
      "source": [
        "#@title 1. Install requirements\n",
        "%%capture\n",
        "! pip install -qU langchain-google-community google-cloud-discoveryengine\n",
        "\n",
        "\n",
        "import IPython\n",
        "app = IPython.Application.instance()\n",
        "app.kernel.do_shutdown(True)"
      ]
    },
    {
      "cell_type": "code",
      "execution_count": 1,
      "metadata": {
        "cellView": "form",
        "id": "h1zzFNlKf-Rs"
      },
      "outputs": [],
      "source": [
        "#@title 2. Authentication\n",
        "import sys\n",
        "\n",
        "if \"google.colab\" in sys.modules:\n",
        "    from google.colab import auth as google_auth\n",
        "\n",
        "    google_auth.authenticate_user()"
      ]
    },
    {
      "cell_type": "code",
      "execution_count": 4,
      "metadata": {
        "cellView": "form",
        "id": "XTzWFlFmZgeQ"
      },
      "outputs": [],
      "source": [
        "#@title 3. Settings\n",
        "\n",
        "from langchain_google_community import (\n",
        "    VertexAIMultiTurnSearchRetriever,\n",
        "    VertexAISearchRetriever,\n",
        ")\n",
        "\n",
        "PROJECT_ID = \"\"\n",
        "LOCATION = \"\"\n",
        "SEARCH_ENGINE_ID = \"mexican-datastore\"  # Set to your search app ID\n",
        "DATA_STORE_ID = \"mexican-datastore-id\"  # Set to your data store ID"
      ]
    },
    {
      "cell_type": "code",
      "execution_count": 5,
      "metadata": {
        "cellView": "form",
        "id": "Y6gn2yE7ZzAh"
      },
      "outputs": [],
      "source": [
        "#@title 4. Init Retriever\n",
        "retriever = VertexAISearchRetriever(\n",
        "    project_id=PROJECT_ID,\n",
        "    location_id=LOCATION,\n",
        "    data_store_id=DATA_STORE_ID,\n",
        "    max_documents=3,\n",
        ")"
      ]
    },
    {
      "cell_type": "code",
      "execution_count": 7,
      "metadata": {
        "cellView": "form",
        "colab": {
          "base_uri": "https://localhost:8080/"
        },
        "collapsed": true,
        "id": "VdB4VIsEZ5Us",
        "outputId": "c78dcfb9-3985-43ac-a317-6c68ac63f9a4"
      },
      "outputs": [
        {
          "name": "stdout",
          "output_type": "stream",
          "text": [
            "page_content='chocolate drink. The drink was prepared as follows: the beans were\n",
            "roasted and ground into a paste, which was then dissolved in water.\n",
            "The mixture was whipped with a whisk or passed several times from\n",
            "one bowl to another, then the liquid was poured out from one bowl\n",
            "high above another to create foam on top.\n",
            "This was slightly different from the Aztec's\n",
            "recipe. They used to ground the roasted cocoa\n",
            "beans with corn and then add vanilla to the fine\n",
            "paste that was formed. With the paste\n",
            "and water they made a drink that could\n",
            "be drank light or thick, warm or cold.\n",
            "The Spanish conquistador Hernán\n",
            "Cortés discovered chocolate when he\n",
            "ate with the Aztec Emperor Moctezuma\n",
            "II and had it for dessert. Cortés loved\n",
            "this drink and said that a soldier was\n",
            "able to walk all day on only one cup of\n",
            "chocolate. The legend goes that a cook in the court of King Charles I\n",
            "of Spain had the idea of mixing cacao with sugar, cinnamon and\n",
            "vanilla, and transformed the Aztec drink into something enjoyed by\n",
            "Europeans. That is how modern hot chocolate was born.\n",
            "Tequila\n",
            "\n",
            "Tequila is a strong, transparent, alcoholic drink that is considered to\n",
            "be Mexico's national drink. It is obtained from the plant\n",
            "called maguey that grows in and around the town of Tequila, in the\n",
            "state of Jalisco. Ancient people made alcoholic beverages using\n",
            "the maguey plant long before the Spaniards came to the New World.\n",
            "In order to refine the drink the Spaniards introduced the process of\n",
            "distillation.\n",
            "\n",
            "It takes between 8 and 12 years for the maguey to mature. When it\n",
            "is ready to be harvested, the\n",
            "leaves and spikes of\n",
            "the maguey are\n",
            "\n",
            "stripped\n",
            "away, leaving only the heart,\n",
            "which looks like a pineapple.\n",
            "\n",
            "The heart is\n",
            "\n",
            "roasted,\n",
            "pressed, and then shredded\n",
            "to extract the juice, to which\n",
            "sugar is added. The mixture\n",
            "is left to ferment for four\n",
            "days, and then it is distilled' metadata={'id': 'fae3a98d7678f1ab5facd74c29155461', 'source': 'gs://food-datastore/mexican/mexican_food.pdf3', 'previous_segments': [], 'next_segments': []}\n"
          ]
        }
      ],
      "source": [
        "#@title 5. Search\n",
        "query = \"most popular drink\"\n",
        "\n",
        "result = retriever.invoke(query)\n",
        "for doc in result:\n",
        "    print(doc)\n",
        "    break"
      ]
    }
  ],
  "metadata": {
    "colab": {
      "provenance": []
    },
    "kernelspec": {
      "display_name": "Python 3",
      "name": "python3"
    },
    "language_info": {
      "name": "python"
    }
  },
  "nbformat": 4,
  "nbformat_minor": 0
}
